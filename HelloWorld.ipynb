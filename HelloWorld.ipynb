{
  "nbformat": 4,
  "nbformat_minor": 0,
  "metadata": {
    "colab": {
      "provenance": [],
      "authorship_tag": "ABX9TyO57spFC3jyrm0YPq5kelv4",
      "include_colab_link": true
    },
    "kernelspec": {
      "name": "python3",
      "display_name": "Python 3"
    },
    "language_info": {
      "name": "python"
    }
  },
  "cells": [
    {
      "cell_type": "markdown",
      "metadata": {
        "id": "view-in-github",
        "colab_type": "text"
      },
      "source": [
        "<a href=\"https://colab.research.google.com/github/wScouse/wscouse.github.io/blob/master/HelloWorld.ipynb\" target=\"_parent\"><img src=\"https://colab.research.google.com/assets/colab-badge.svg\" alt=\"Open In Colab\"/></a>"
      ]
    },
    {
      "cell_type": "markdown",
      "source": [
        "# Overview\n",
        "TensorFlow 2 quickstart for beginners.\n",
        "[Tutorial](https://www.tensorflow.org/tutorials/quickstart/beginner)"
      ],
      "metadata": {
        "id": "2RA0xa5MIcHf"
      }
    },
    {
      "cell_type": "code",
      "execution_count": 2,
      "metadata": {
        "colab": {
          "base_uri": "https://localhost:8080/"
        },
        "id": "78G6dp9tII6W",
        "outputId": "b10b87a1-eaf7-4164-88bb-4cd10aec8b6f"
      },
      "outputs": [
        {
          "output_type": "stream",
          "name": "stdout",
          "text": [
            "Tensorflow version: 2.9.2\n"
          ]
        }
      ],
      "source": [
        "import tensorflow as tf\n",
        "print(\"Tensorflow version:\", tf.__version__)"
      ]
    },
    {
      "cell_type": "markdown",
      "source": [
        "Load and prepare the MNIST dataset."
      ],
      "metadata": {
        "id": "jI6PanIQJO4I"
      }
    },
    {
      "cell_type": "code",
      "source": [
        "mnist = tf.keras.datasets.mnist\n",
        "(x_train, y_train), (x_test, y_test) = mnist.load_data()\n",
        "x_train, x_test = x_train / 255.0, x_test / 255.0"
      ],
      "metadata": {
        "colab": {
          "base_uri": "https://localhost:8080/"
        },
        "id": "1ggve6fGJUST",
        "outputId": "1687b073-84d0-4b78-c487-e3cf787aba70"
      },
      "execution_count": 3,
      "outputs": [
        {
          "output_type": "stream",
          "name": "stdout",
          "text": [
            "Downloading data from https://storage.googleapis.com/tensorflow/tf-keras-datasets/mnist.npz\n",
            "11490434/11490434 [==============================] - 0s 0us/step\n"
          ]
        }
      ]
    },
    {
      "cell_type": "markdown",
      "source": [
        "Build a machine learning model"
      ],
      "metadata": {
        "id": "-xHu6H31JoPQ"
      }
    },
    {
      "cell_type": "code",
      "source": [
        "model = tf.keras.models.Sequential([\n",
        "    tf.keras.layers.Flatten(input_shape=(28, 28)),\n",
        "    tf.keras.layers.Dense(128, activation='relu'),\n",
        "    tf.keras.layers.Dropout(0.2),\n",
        "    tf.keras.layers.Dense(10)\n",
        "])"
      ],
      "metadata": {
        "id": "1KLy6R4bJ-Tl"
      },
      "execution_count": 4,
      "outputs": []
    },
    {
      "cell_type": "code",
      "source": [
        "predictions = model(x_train[:1]).numpy()\n",
        "predictions"
      ],
      "metadata": {
        "colab": {
          "base_uri": "https://localhost:8080/"
        },
        "id": "Z5wH2l9aL1C2",
        "outputId": "e7f95f3f-e7d0-435f-a81e-62619e8841e1"
      },
      "execution_count": 6,
      "outputs": [
        {
          "output_type": "execute_result",
          "data": {
            "text/plain": [
              "array([[ 0.3284515 , -0.3486528 ,  0.14088455, -0.00651929,  0.07514873,\n",
              "         0.10884321, -0.41233936, -0.24714233, -0.08720793,  0.13578162]],\n",
              "      dtype=float32)"
            ]
          },
          "metadata": {},
          "execution_count": 6
        }
      ]
    },
    {
      "cell_type": "markdown",
      "source": [
        "Convert logits to probabilities for each class."
      ],
      "metadata": {
        "id": "RZp_EwIIMClZ"
      }
    },
    {
      "cell_type": "code",
      "source": [
        "tf.nn.softmax(predictions).numpy()"
      ],
      "metadata": {
        "colab": {
          "base_uri": "https://localhost:8080/"
        },
        "id": "n2YLU_UEMH_v",
        "outputId": "bbe4572a-6220-4ba6-b79a-ecbdf738daab"
      },
      "execution_count": 7,
      "outputs": [
        {
          "output_type": "execute_result",
          "data": {
            "text/plain": [
              "array([[0.13975748, 0.07100883, 0.11585526, 0.09997677, 0.10848434,\n",
              "        0.11220195, 0.06662753, 0.07859553, 0.09222665, 0.11526557]],\n",
              "      dtype=float32)"
            ]
          },
          "metadata": {},
          "execution_count": 7
        }
      ]
    },
    {
      "cell_type": "markdown",
      "source": [
        "Define a loss function"
      ],
      "metadata": {
        "id": "I0Ox3UkwMfhW"
      }
    },
    {
      "cell_type": "code",
      "source": [
        "loss_fn = tf.keras.losses.SparseCategoricalCrossentropy(from_logits=True)"
      ],
      "metadata": {
        "id": "dB9lfZwLMik2"
      },
      "execution_count": 8,
      "outputs": []
    },
    {
      "cell_type": "markdown",
      "source": [
        "Loss function"
      ],
      "metadata": {
        "id": "7jANwwIaMyMV"
      }
    },
    {
      "cell_type": "code",
      "source": [
        "loss_fn(y_train[:1], predictions).numpy()"
      ],
      "metadata": {
        "colab": {
          "base_uri": "https://localhost:8080/"
        },
        "id": "_KdhWnqIMw4u",
        "outputId": "b0ae12ed-6b3f-47f1-c275-4e1edc8f33a6"
      },
      "execution_count": 9,
      "outputs": [
        {
          "output_type": "execute_result",
          "data": {
            "text/plain": [
              "2.1874547"
            ]
          },
          "metadata": {},
          "execution_count": 9
        }
      ]
    },
    {
      "cell_type": "markdown",
      "source": [
        "Configure and compile model"
      ],
      "metadata": {
        "id": "08NFK6kUM_cW"
      }
    },
    {
      "cell_type": "code",
      "source": [
        "model.compile(optimizer='adam',\n",
        "              loss=loss_fn,\n",
        "              metrics=['accuracy'])"
      ],
      "metadata": {
        "id": "3XShu7fPNJQO"
      },
      "execution_count": 10,
      "outputs": []
    },
    {
      "cell_type": "markdown",
      "source": [
        "# Train and Evaluate Model"
      ],
      "metadata": {
        "id": "m79ueR24NUR6"
      }
    },
    {
      "cell_type": "markdown",
      "source": [
        "Train model"
      ],
      "metadata": {
        "id": "M8BsAQLSNYux"
      }
    },
    {
      "cell_type": "code",
      "source": [
        "model.fit(x_train, y_train, epochs=5)"
      ],
      "metadata": {
        "colab": {
          "base_uri": "https://localhost:8080/"
        },
        "id": "iuIdDsXONa2k",
        "outputId": "7adaf76e-19c9-4f09-fd3b-996eaffaf418"
      },
      "execution_count": 11,
      "outputs": [
        {
          "output_type": "stream",
          "name": "stdout",
          "text": [
            "Epoch 1/5\n",
            "1875/1875 [==============================] - 5s 2ms/step - loss: 0.2938 - accuracy: 0.9145\n",
            "Epoch 2/5\n",
            "1875/1875 [==============================] - 4s 2ms/step - loss: 0.1417 - accuracy: 0.9578\n",
            "Epoch 3/5\n",
            "1875/1875 [==============================] - 4s 2ms/step - loss: 0.1064 - accuracy: 0.9680\n",
            "Epoch 4/5\n",
            "1875/1875 [==============================] - 4s 2ms/step - loss: 0.0873 - accuracy: 0.9729\n",
            "Epoch 5/5\n",
            "1875/1875 [==============================] - 4s 2ms/step - loss: 0.0751 - accuracy: 0.9766\n"
          ]
        },
        {
          "output_type": "execute_result",
          "data": {
            "text/plain": [
              "<keras.callbacks.History at 0x7f73f111c280>"
            ]
          },
          "metadata": {},
          "execution_count": 11
        }
      ]
    },
    {
      "cell_type": "markdown",
      "source": [
        "Evaluate model"
      ],
      "metadata": {
        "id": "zThKIR2ANnR7"
      }
    },
    {
      "cell_type": "code",
      "source": [
        "model.evaluate(x_test, y_test, verbose=2)"
      ],
      "metadata": {
        "colab": {
          "base_uri": "https://localhost:8080/"
        },
        "id": "pmvsG6AFNo6J",
        "outputId": "4a48bd5d-864f-4652-cf39-e5104bc44834"
      },
      "execution_count": 12,
      "outputs": [
        {
          "output_type": "stream",
          "name": "stdout",
          "text": [
            "313/313 - 0s - loss: 0.0766 - accuracy: 0.9763 - 419ms/epoch - 1ms/step\n"
          ]
        },
        {
          "output_type": "execute_result",
          "data": {
            "text/plain": [
              "[0.07655389606952667, 0.9763000011444092]"
            ]
          },
          "metadata": {},
          "execution_count": 12
        }
      ]
    },
    {
      "cell_type": "markdown",
      "source": [
        "Return a probability"
      ],
      "metadata": {
        "id": "x4paYAGLN3QW"
      }
    },
    {
      "cell_type": "code",
      "source": [
        "probability_model = tf.keras.Sequential([\n",
        "    model,\n",
        "    tf.keras.layers.Softmax()\n",
        "])"
      ],
      "metadata": {
        "id": "NDFSoijTN6BM"
      },
      "execution_count": 13,
      "outputs": []
    },
    {
      "cell_type": "code",
      "source": [
        "probability_model(x_test[:5])"
      ],
      "metadata": {
        "colab": {
          "base_uri": "https://localhost:8080/"
        },
        "id": "Mi1yaKGDOOei",
        "outputId": "c6ea21a6-d8f7-419d-90a7-3bd1ad211e22"
      },
      "execution_count": 14,
      "outputs": [
        {
          "output_type": "execute_result",
          "data": {
            "text/plain": [
              "<tf.Tensor: shape=(5, 10), dtype=float32, numpy=\n",
              "array([[6.60593074e-08, 2.34632026e-07, 5.46210540e-05, 3.09882889e-04,\n",
              "        4.19380780e-11, 7.94855907e-07, 2.89262754e-13, 9.99580443e-01,\n",
              "        8.43074986e-07, 5.29835743e-05],\n",
              "       [1.88040499e-08, 3.58943580e-05, 9.99958515e-01, 5.06083643e-06,\n",
              "        1.07172663e-16, 4.57021656e-07, 4.32572094e-08, 5.77434212e-11,\n",
              "        1.11524741e-07, 7.07425983e-16],\n",
              "       [2.58405237e-07, 9.98715878e-01, 2.54548184e-04, 1.80542920e-05,\n",
              "        5.53887839e-05, 1.56301885e-05, 6.85717350e-06, 7.81999202e-04,\n",
              "        1.50567634e-04, 8.66685298e-07],\n",
              "       [9.99881268e-01, 2.52636696e-11, 1.49241587e-05, 2.66790607e-08,\n",
              "        4.70855213e-08, 4.93732898e-07, 7.92747232e-05, 1.80225328e-07,\n",
              "        8.32897307e-09, 2.38285265e-05],\n",
              "       [7.31366163e-06, 4.45629134e-08, 6.28485213e-06, 3.59841067e-07,\n",
              "        9.99028802e-01, 4.88341084e-06, 3.61634811e-05, 4.12561421e-05,\n",
              "        4.90811203e-07, 8.74504331e-04]], dtype=float32)>"
            ]
          },
          "metadata": {},
          "execution_count": 14
        }
      ]
    }
  ]
}